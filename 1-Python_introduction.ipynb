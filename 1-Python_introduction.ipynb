{
 "cells": [
  {
   "cell_type": "markdown",
   "metadata": {},
   "source": [
    "# IOS and Android apps analysis\n",
    "\n",
    "For this project, we'll pretend we're working as data analysts for a company that builds Android and iOS mobile apps. We make our apps available on Google Play and the App Store.\n",
    "\n",
    "Our apps are **free to dowload and install**, our main source of revenue consists of **in-app ads**. Our business is therefore linked to the number of downloads of our applications, and to the engagement of our users. \n",
    "\n",
    "Our goal for this project is to analyze data to **help our developers understand what type of apps are likely to attract more users**."
   ]
  },
  {
   "cell_type": "markdown",
   "metadata": {},
   "source": [
    "We'll start by opening and exploring these two data sets\n",
    "\n",
    "First one : containing data about approximately 10,000 Android apps from Google Play\n",
    "\n",
    "Second one : containing data about approximately 7,000 iOS apps from the App Store"
   ]
  },
  {
   "cell_type": "code",
   "execution_count": 1,
   "metadata": {},
   "outputs": [],
   "source": [
    "#Opening Google Play Dataset\n",
    "\n",
    "opened_file = open('googleplaystore.csv') \n",
    "from csv import reader\n",
    "read_file = reader(opened_file) \n",
    "googleplay_data = list(read_file)\n",
    "OS = googleplay_data[1:]\n",
    "OS_header = googleplay_data[0]\n",
    "\n",
    "#Opening AppleStore dataset\n",
    "\n",
    "opened_file = open('AppleStore.csv') \n",
    "from csv import reader\n",
    "read_file = reader(opened_file) \n",
    "applestore_data = list(read_file)\n",
    "IOS = applestore_data[1:]\n",
    "IOS_header = applestore_data[0]"
   ]
  },
  {
   "cell_type": "markdown",
   "metadata": {},
   "source": [
    "We will use a function which has been defined in the exercise statement. It allows us to have an overview of our dataset and to identify the data that we can use."
   ]
  },
  {
   "cell_type": "code",
   "execution_count": 2,
   "metadata": {},
   "outputs": [],
   "source": [
    "def explore_data(dataset, start, end, rows_and_columns=False):\n",
    "    dataset_slice = dataset[start:end]    \n",
    "    for row in dataset_slice:\n",
    "        print(row)\n",
    "        print('\\n') # adds a new (empty) line after each row\n",
    "\n",
    "    if rows_and_columns:\n",
    "        print('Number of rows:', len(dataset))\n",
    "        print('Number of columns:', len(dataset[0]))"
   ]
  },
  {
   "cell_type": "code",
   "execution_count": 3,
   "metadata": {},
   "outputs": [
    {
     "name": "stdout",
     "output_type": "stream",
     "text": [
      "['App', 'Category', 'Rating', 'Reviews', 'Size', 'Installs', 'Type', 'Price', 'Content Rating', 'Genres', 'Last Updated', 'Current Ver', 'Android Ver']\n",
      "['Photo Editor & Candy Camera & Grid & ScrapBook', 'ART_AND_DESIGN', '4.1', '159', '19M', '10,000+', 'Free', '0', 'Everyone', 'Art & Design', 'January 7, 2018', '1.0.0', '4.0.3 and up']\n",
      "\n",
      "\n",
      "['Coloring book moana', 'ART_AND_DESIGN', '3.9', '967', '14M', '500,000+', 'Free', '0', 'Everyone', 'Art & Design;Pretend Play', 'January 15, 2018', '2.0.0', '4.0.3 and up']\n",
      "\n",
      "\n",
      "['U Launcher Lite – FREE Live Cool Themes, Hide Apps', 'ART_AND_DESIGN', '4.7', '87510', '8.7M', '5,000,000+', 'Free', '0', 'Everyone', 'Art & Design', 'August 1, 2018', '1.2.4', '4.0.3 and up']\n",
      "\n",
      "\n",
      "['Sketch - Draw & Paint', 'ART_AND_DESIGN', '4.5', '215644', '25M', '50,000,000+', 'Free', '0', 'Teen', 'Art & Design', 'June 8, 2018', 'Varies with device', '4.2 and up']\n",
      "\n",
      "\n",
      "['Pixel Draw - Number Art Coloring Book', 'ART_AND_DESIGN', '4.3', '967', '2.8M', '100,000+', 'Free', '0', 'Everyone', 'Art & Design;Creativity', 'June 20, 2018', '1.1', '4.4 and up']\n",
      "\n",
      "\n"
     ]
    }
   ],
   "source": [
    "print(OS_header)\n",
    "explore_data(OS,0,5)"
   ]
  },
  {
   "cell_type": "code",
   "execution_count": 4,
   "metadata": {},
   "outputs": [
    {
     "name": "stdout",
     "output_type": "stream",
     "text": [
      "['id', 'track_name', 'size_bytes', 'currency', 'price', 'rating_count_tot', 'rating_count_ver', 'user_rating', 'user_rating_ver', 'ver', 'cont_rating', 'prime_genre', 'sup_devices.num', 'ipadSc_urls.num', 'lang.num', 'vpp_lic']\n",
      "['284882215', 'Facebook', '389879808', 'USD', '0.0', '2974676', '212', '3.5', '3.5', '95.0', '4+', 'Social Networking', '37', '1', '29', '1']\n",
      "\n",
      "\n",
      "['389801252', 'Instagram', '113954816', 'USD', '0.0', '2161558', '1289', '4.5', '4.0', '10.23', '12+', 'Photo & Video', '37', '0', '29', '1']\n",
      "\n",
      "\n",
      "['529479190', 'Clash of Clans', '116476928', 'USD', '0.0', '2130805', '579', '4.5', '4.5', '9.24.12', '9+', 'Games', '38', '5', '18', '1']\n",
      "\n",
      "\n",
      "['420009108', 'Temple Run', '65921024', 'USD', '0.0', '1724546', '3842', '4.5', '4.0', '1.6.2', '9+', 'Games', '40', '5', '1', '1']\n",
      "\n",
      "\n",
      "['284035177', 'Pandora - Music & Radio', '130242560', 'USD', '0.0', '1126879', '3594', '4.0', '4.5', '8.4.1', '12+', 'Music', '37', '4', '1', '1']\n",
      "\n",
      "\n"
     ]
    }
   ],
   "source": [
    "print(IOS_header)\n",
    "explore_data(IOS,0,5)"
   ]
  },
  {
   "cell_type": "markdown",
   "metadata": {},
   "source": [
    "Before analysing the data, it must be cleaned up.We have two main tasks to carry out before analysing the data: \n",
    "\n",
    "- Remove non-English application data from the analysis\n",
    "- Remove paid applications from the analysis, as our company only develops free applications. \n",
    "\n",
    "The comments in the Google Play database indicate an error on a specific row in the database."
   ]
  },
  {
   "cell_type": "code",
   "execution_count": 5,
   "metadata": {},
   "outputs": [
    {
     "name": "stdout",
     "output_type": "stream",
     "text": [
      "['Life Made WI-Fi Touchscreen Photo Frame', '1.9', '19', '3.0M', '1,000+', 'Free', '0', 'Everyone', '', 'February 11, 2018', '1.0.19', '4.0 and up']\n"
     ]
    }
   ],
   "source": [
    "print(OS[10472])"
   ]
  },
  {
   "cell_type": "code",
   "execution_count": 6,
   "metadata": {},
   "outputs": [
    {
     "name": "stdout",
     "output_type": "stream",
     "text": [
      "Before removing : 10841\n",
      "After removing : 10840\n"
     ]
    }
   ],
   "source": [
    "print('Before removing :',len(OS))\n",
    "del OS[10472]\n",
    "print('After removing :',len(OS))"
   ]
  },
  {
   "cell_type": "markdown",
   "metadata": {},
   "source": [
    "The comments also tell us about the presence of duplicates in the Google Play database. In the statement we were given a code to fix the duplicates (loop on the apps in OS, then if the app name already exists then it is a duplicate)"
   ]
  },
  {
   "cell_type": "code",
   "execution_count": 7,
   "metadata": {},
   "outputs": [
    {
     "name": "stdout",
     "output_type": "stream",
     "text": [
      "1181\n"
     ]
    }
   ],
   "source": [
    "duplicate_apps =[]\n",
    "unique_apps = []\n",
    "\n",
    "for app in OS : \n",
    "    name = app[0]\n",
    "    \n",
    "    if name in unique_apps : \n",
    "        duplicate_apps.append(name)\n",
    "    else :\n",
    "        unique_apps.append(name)\n",
    "\n",
    "print(len(duplicate_apps))"
   ]
  },
  {
   "cell_type": "markdown",
   "metadata": {},
   "source": [
    "The Instagram application comes up 4 times, and we notice a difference in the number of reviews. We will use this information to keep the most recent rows of duplicate applications."
   ]
  },
  {
   "cell_type": "code",
   "execution_count": 8,
   "metadata": {},
   "outputs": [
    {
     "name": "stdout",
     "output_type": "stream",
     "text": [
      "['Instagram', 'SOCIAL', '4.5', '66577313', 'Varies with device', '1,000,000,000+', 'Free', '0', 'Teen', 'Social', 'July 31, 2018', 'Varies with device', 'Varies with device']\n",
      "['Instagram', 'SOCIAL', '4.5', '66577446', 'Varies with device', '1,000,000,000+', 'Free', '0', 'Teen', 'Social', 'July 31, 2018', 'Varies with device', 'Varies with device']\n",
      "['Instagram', 'SOCIAL', '4.5', '66577313', 'Varies with device', '1,000,000,000+', 'Free', '0', 'Teen', 'Social', 'July 31, 2018', 'Varies with device', 'Varies with device']\n",
      "['Instagram', 'SOCIAL', '4.5', '66509917', 'Varies with device', '1,000,000,000+', 'Free', '0', 'Teen', 'Social', 'July 31, 2018', 'Varies with device', 'Varies with device']\n"
     ]
    }
   ],
   "source": [
    "for app in OS : \n",
    "    name = app[0]\n",
    "    if name == 'Instagram':\n",
    "        print(app)\n",
    "    "
   ]
  },
  {
   "cell_type": "code",
   "execution_count": 9,
   "metadata": {},
   "outputs": [
    {
     "name": "stdout",
     "output_type": "stream",
     "text": [
      "Expected lenght : 9659\n"
     ]
    }
   ],
   "source": [
    "print('Expected lenght :', len(OS)-len(duplicate_apps))"
   ]
  },
  {
   "cell_type": "code",
   "execution_count": 10,
   "metadata": {},
   "outputs": [
    {
     "name": "stdout",
     "output_type": "stream",
     "text": [
      "9659\n"
     ]
    }
   ],
   "source": [
    "reviews_max = {}\n",
    "\n",
    "for app in OS : \n",
    "    name = app[0]\n",
    "    n_reviews = float(app[3])\n",
    "    \n",
    "    if name in reviews_max and reviews_max[name] < n_reviews : \n",
    "        reviews_max[name] = n_reviews\n",
    "    elif name not in reviews_max : \n",
    "        reviews_max[name] = n_reviews\n",
    "\n",
    "print(len(reviews_max))"
   ]
  },
  {
   "cell_type": "code",
   "execution_count": 11,
   "metadata": {},
   "outputs": [
    {
     "name": "stdout",
     "output_type": "stream",
     "text": [
      "9659\n"
     ]
    }
   ],
   "source": [
    "android_clean = []\n",
    "already_added = []\n",
    "\n",
    "for row in OS : \n",
    "    name = row[0]\n",
    "    n_reviews = float(row[3])\n",
    "    \n",
    "    if n_reviews == reviews_max[name] and name not in already_added : \n",
    "        android_clean.append(row)\n",
    "        already_added.append(name)\n",
    "        \n",
    "print(len(android_clean))\n",
    "\n"
   ]
  },
  {
   "cell_type": "markdown",
   "metadata": {},
   "source": [
    "We have the right number of applications in the android_clean list (9659 = Sum of applications - duplicates)"
   ]
  },
  {
   "cell_type": "markdown",
   "metadata": {},
   "source": [
    "We are now going to check if there are duplicates in the IOS database, for that we are going to base ourselves on the id column"
   ]
  },
  {
   "cell_type": "code",
   "execution_count": 12,
   "metadata": {},
   "outputs": [
    {
     "name": "stdout",
     "output_type": "stream",
     "text": [
      "Duplicate IOS App : 0\n"
     ]
    }
   ],
   "source": [
    "duplicate_IOSapps =[]\n",
    "unique_IOSapps = []\n",
    "\n",
    "for row in IOS : \n",
    "    id_column = row[0]\n",
    "    \n",
    "    if id_column in unique_IOSapps : \n",
    "        duplicate_IOSapps.append(id_column)\n",
    "    else :\n",
    "        unique_IOSapps.append(id_column)\n",
    "\n",
    "print('Duplicate IOS App :',len(duplicate_IOSapps))\n",
    "    \n",
    "    "
   ]
  },
  {
   "cell_type": "markdown",
   "metadata": {},
   "source": [
    "There is no duplicate in IOS database"
   ]
  },
  {
   "cell_type": "markdown",
   "metadata": {},
   "source": [
    "To remove non-English applications we will use the function ord() which returns a number for each letter (e.g. ord(a) returns 97 and ord(€) returns 8364). The numbers corresponding to the characters we commonly use in an English text are all in the range 0 to 127, according to the ASCII (American Standard Code for Information Interchange) system"
   ]
  },
  {
   "cell_type": "code",
   "execution_count": 13,
   "metadata": {},
   "outputs": [
    {
     "name": "stdout",
     "output_type": "stream",
     "text": [
      "True\n",
      "False\n",
      "False\n",
      "False\n"
     ]
    }
   ],
   "source": [
    "# Function that returns False if the name contains non-English characters, and true if no non-English characters are found\n",
    "def is_english (string): \n",
    "    for character in string : \n",
    "        if ord(character) > 127:\n",
    "            \n",
    "            return False\n",
    "       \n",
    "    \n",
    "    return True\n",
    "\n",
    "print(is_english('Instagram'))\n",
    "print(is_english('爱奇艺PPS -《欢乐颂2》电视剧热播'))\n",
    "print(is_english('Docs To Go™ Free Office Suite'))\n",
    "print(is_english('Instachat 😜'))"
   ]
  },
  {
   "cell_type": "markdown",
   "metadata": {},
   "source": [
    "Some application names are not considered English, this is because emojis and characters like ™ fall outside the ASCII range and have corresponding numbers over 127."
   ]
  },
  {
   "cell_type": "code",
   "execution_count": 14,
   "metadata": {},
   "outputs": [
    {
     "name": "stdout",
     "output_type": "stream",
     "text": [
      "True\n",
      "False\n",
      "True\n",
      "True\n"
     ]
    }
   ],
   "source": [
    "# Function that returns False if the name contains more than 3 non-English characters, and true if no non-English characters are found\n",
    "def is_english (string): \n",
    "    number_non_english_chr = 0\n",
    "    for character in string :\n",
    "        if ord(character) > 127:\n",
    "            number_non_english_chr += 1\n",
    "        \n",
    "        if number_non_english_chr > 3 :\n",
    "            \n",
    "            return False\n",
    "       \n",
    "    \n",
    "    return True\n",
    "\n",
    "print(is_english('Instagram'))\n",
    "print(is_english('爱奇艺PPS -《欢乐颂2》电视剧热播'))\n",
    "print(is_english('Docs To Go™ Free Office Suite'))\n",
    "print(is_english('Instachat 😜'))"
   ]
  },
  {
   "cell_type": "code",
   "execution_count": 15,
   "metadata": {},
   "outputs": [
    {
     "name": "stdout",
     "output_type": "stream",
     "text": [
      "Number of English App : 9614\n"
     ]
    }
   ],
   "source": [
    "English_OS = []\n",
    "\n",
    "for row in android_clean : \n",
    "    name = row[0]\n",
    "    if is_english(name) == True :\n",
    "        English_OS.append(row)\n",
    "\n",
    "print('Number of English App :',len(English_OS))"
   ]
  },
  {
   "cell_type": "code",
   "execution_count": 16,
   "metadata": {},
   "outputs": [
    {
     "name": "stdout",
     "output_type": "stream",
     "text": [
      "Number of English App : 6183\n"
     ]
    }
   ],
   "source": [
    "English_IOS = []\n",
    "\n",
    "for row in IOS : \n",
    "    name = row[1]\n",
    "    if is_english(name) == True :\n",
    "        English_IOS.append(row)\n",
    "\n",
    "print('Number of English App :',len(English_IOS))"
   ]
  },
  {
   "cell_type": "markdown",
   "metadata": {},
   "source": [
    "Our data sets contain both free and non-free apps; we'll need to isolate only the free apps for our analysis.\n",
    "\n",
    "- Price column in Android database : 8th \n",
    "- Price column in Apple database : 5th "
   ]
  },
  {
   "cell_type": "code",
   "execution_count": 17,
   "metadata": {},
   "outputs": [
    {
     "name": "stdout",
     "output_type": "stream",
     "text": [
      "<class 'str'>\n",
      "<class 'str'>\n"
     ]
    }
   ],
   "source": [
    "print(type(English_IOS[0][4]))\n",
    "print(type(English_OS[0][7]))"
   ]
  },
  {
   "cell_type": "code",
   "execution_count": 18,
   "metadata": {},
   "outputs": [
    {
     "name": "stdout",
     "output_type": "stream",
     "text": [
      "3222\n",
      "2961\n",
      "['284882215', 'Facebook', '389879808', 'USD', '0.0', '2974676', '212', '3.5', '3.5', '95.0', '4+', 'Social Networking', '37', '1', '29', '1']\n",
      "\n",
      "\n",
      "['389801252', 'Instagram', '113954816', 'USD', '0.0', '2161558', '1289', '4.5', '4.0', '10.23', '12+', 'Photo & Video', '37', '0', '29', '1']\n",
      "\n",
      "\n",
      "['529479190', 'Clash of Clans', '116476928', 'USD', '0.0', '2130805', '579', '4.5', '4.5', '9.24.12', '9+', 'Games', '38', '5', '18', '1']\n",
      "\n",
      "\n",
      "['420009108', 'Temple Run', '65921024', 'USD', '0.0', '1724546', '3842', '4.5', '4.0', '1.6.2', '9+', 'Games', '40', '5', '1', '1']\n",
      "\n",
      "\n",
      "['284035177', 'Pandora - Music & Radio', '130242560', 'USD', '0.0', '1126879', '3594', '4.0', '4.5', '8.4.1', '12+', 'Music', '37', '4', '1', '1']\n",
      "\n",
      "\n"
     ]
    }
   ],
   "source": [
    "Free_IOS = []\n",
    "Non_free_IOS = []\n",
    "\n",
    "for row in English_IOS : \n",
    "    price = row[4]\n",
    "    \n",
    "    if price =='0.0':\n",
    "        Free_IOS.append(row)\n",
    "    else :\n",
    "        Non_free_IOS.append(row)\n",
    "\n",
    "print(len(Free_IOS))   \n",
    "print(len(Non_free_IOS))\n",
    "\n",
    "explore_data(Free_IOS,0,5)"
   ]
  },
  {
   "cell_type": "code",
   "execution_count": 19,
   "metadata": {},
   "outputs": [
    {
     "name": "stdout",
     "output_type": "stream",
     "text": [
      "8864\n",
      "750\n",
      "['Photo Editor & Candy Camera & Grid & ScrapBook', 'ART_AND_DESIGN', '4.1', '159', '19M', '10,000+', 'Free', '0', 'Everyone', 'Art & Design', 'January 7, 2018', '1.0.0', '4.0.3 and up']\n",
      "\n",
      "\n",
      "['U Launcher Lite – FREE Live Cool Themes, Hide Apps', 'ART_AND_DESIGN', '4.7', '87510', '8.7M', '5,000,000+', 'Free', '0', 'Everyone', 'Art & Design', 'August 1, 2018', '1.2.4', '4.0.3 and up']\n",
      "\n",
      "\n",
      "['Sketch - Draw & Paint', 'ART_AND_DESIGN', '4.5', '215644', '25M', '50,000,000+', 'Free', '0', 'Teen', 'Art & Design', 'June 8, 2018', 'Varies with device', '4.2 and up']\n",
      "\n",
      "\n",
      "['Pixel Draw - Number Art Coloring Book', 'ART_AND_DESIGN', '4.3', '967', '2.8M', '100,000+', 'Free', '0', 'Everyone', 'Art & Design;Creativity', 'June 20, 2018', '1.1', '4.4 and up']\n",
      "\n",
      "\n",
      "['Paper flowers instructions', 'ART_AND_DESIGN', '4.4', '167', '5.6M', '50,000+', 'Free', '0', 'Everyone', 'Art & Design', 'March 26, 2017', '1.0', '2.3 and up']\n",
      "\n",
      "\n"
     ]
    }
   ],
   "source": [
    "Free_OS = []\n",
    "Non_free_OS = []\n",
    "\n",
    "for row in English_OS : \n",
    "    price = row[7]\n",
    "    \n",
    "    if price =='0':\n",
    "        Free_OS.append(row)\n",
    "    else :\n",
    "        Non_free_OS.append(row)\n",
    "\n",
    "print(len(Free_OS))   \n",
    "print(len(Non_free_OS))\n",
    "\n",
    "explore_data(Free_OS,0,5)"
   ]
  },
  {
   "cell_type": "markdown",
   "metadata": {},
   "source": [
    "## Finding the most common apps by genre"
   ]
  },
  {
   "cell_type": "markdown",
   "metadata": {},
   "source": [
    "According to the statement :\n",
    "\n",
    "\"To minimize risks and overhead, our validation strategy for an app idea is comprised of three steps:\n",
    "\n",
    "- Build a minimal Android version of the app, and add it to Google Play.\n",
    "- If the app has a good response from users, we develop it further.\n",
    "- If the app is profitable after six months, we build an iOS version of the app and add it to the App Store.\""
   ]
  },
  {
   "cell_type": "code",
   "execution_count": 20,
   "metadata": {
    "scrolled": true
   },
   "outputs": [
    {
     "name": "stdout",
     "output_type": "stream",
     "text": [
      "Category\n",
      "prime_genre\n"
     ]
    }
   ],
   "source": [
    "#We will us genre column\n",
    "print(OS_header[1])\n",
    "print(IOS_header[11])"
   ]
  },
  {
   "cell_type": "markdown",
   "metadata": {},
   "source": [
    "To do this we will create a % frequency dictionary and a second dictionary to classify the results and interpret them more easily"
   ]
  },
  {
   "cell_type": "code",
   "execution_count": 21,
   "metadata": {
    "scrolled": true
   },
   "outputs": [],
   "source": [
    "def freq_table(dataset,index) : \n",
    "    frequency = {}\n",
    "    total = 0\n",
    "    for rows in dataset : \n",
    "        row = rows[index]\n",
    "        total +=1\n",
    "        \n",
    "        if row not in frequency : \n",
    "            frequency[row] = 1\n",
    "        else :\n",
    "            frequency[row] +=1\n",
    "            \n",
    "    frequency_percentage = {}\n",
    "    for row in frequency : \n",
    "        percentage = (frequency[row]/total)*100\n",
    "        frequency_percentage[row] = percentage\n",
    "        \n",
    "    return frequency_percentage\n",
    "\n",
    "#Function that was given in the statement, using to sort by % of frequency\n",
    "\n",
    "def display_table(dataset, index):\n",
    "    table = freq_table(dataset, index)\n",
    "    table_display = []\n",
    "    for key in table:\n",
    "        key_val_as_tuple = (table[key], key)\n",
    "        table_display.append(key_val_as_tuple)\n",
    "\n",
    "    table_sorted = sorted(table_display, reverse = True)\n",
    "    for entry in table_sorted:\n",
    "        print(entry[1], ':', entry[0])\n",
    "        "
   ]
  },
  {
   "cell_type": "code",
   "execution_count": 22,
   "metadata": {
    "scrolled": true
   },
   "outputs": [
    {
     "name": "stdout",
     "output_type": "stream",
     "text": [
      "FAMILY : 18.907942238267147\n",
      "GAME : 9.724729241877256\n",
      "TOOLS : 8.461191335740072\n",
      "BUSINESS : 4.591606498194946\n",
      "LIFESTYLE : 3.9034296028880866\n",
      "PRODUCTIVITY : 3.892148014440433\n",
      "FINANCE : 3.7003610108303246\n",
      "MEDICAL : 3.531137184115524\n",
      "SPORTS : 3.395758122743682\n",
      "PERSONALIZATION : 3.3167870036101084\n",
      "COMMUNICATION : 3.2378158844765346\n",
      "HEALTH_AND_FITNESS : 3.0798736462093865\n",
      "PHOTOGRAPHY : 2.944494584837545\n",
      "NEWS_AND_MAGAZINES : 2.7978339350180503\n",
      "SOCIAL : 2.6624548736462095\n",
      "TRAVEL_AND_LOCAL : 2.33528880866426\n",
      "SHOPPING : 2.2450361010830324\n",
      "BOOKS_AND_REFERENCE : 2.1435018050541514\n",
      "DATING : 1.861462093862816\n",
      "VIDEO_PLAYERS : 1.7937725631768955\n",
      "MAPS_AND_NAVIGATION : 1.3989169675090252\n",
      "FOOD_AND_DRINK : 1.2409747292418771\n",
      "EDUCATION : 1.1620036101083033\n",
      "ENTERTAINMENT : 0.9589350180505415\n",
      "LIBRARIES_AND_DEMO : 0.9363718411552346\n",
      "AUTO_AND_VEHICLES : 0.9250902527075812\n",
      "HOUSE_AND_HOME : 0.8235559566787004\n",
      "WEATHER : 0.8009927797833934\n",
      "EVENTS : 0.7107400722021661\n",
      "PARENTING : 0.6543321299638989\n",
      "ART_AND_DESIGN : 0.6430505415162455\n",
      "COMICS : 0.6204873646209386\n",
      "BEAUTY : 0.5979241877256317\n"
     ]
    }
   ],
   "source": [
    "display_table(Free_OS,1)"
   ]
  },
  {
   "cell_type": "markdown",
   "metadata": {},
   "source": [
    "There is a strong interest among Android mobile users in the following genres for mobile app: \n",
    "\n",
    "- Family\n",
    "- Game\n",
    "- Tools\n",
    "- Business\n",
    "\n",
    "Among the most represented genres we find mainly \"serious\" genres around productivity, business sector or Finance, health... and not so much application designed for fun, at the opposite of IOS app frequency"
   ]
  },
  {
   "cell_type": "code",
   "execution_count": 23,
   "metadata": {
    "scrolled": true
   },
   "outputs": [
    {
     "name": "stdout",
     "output_type": "stream",
     "text": [
      "Games : 58.16263190564867\n",
      "Entertainment : 7.883302296710118\n",
      "Photo & Video : 4.9658597144630665\n",
      "Education : 3.662321539416512\n",
      "Social Networking : 3.2898820608317814\n",
      "Shopping : 2.60707635009311\n",
      "Utilities : 2.5139664804469275\n",
      "Sports : 2.1415270018621975\n",
      "Music : 2.0484171322160147\n",
      "Health & Fitness : 2.0173805090006205\n",
      "Productivity : 1.7380509000620732\n",
      "Lifestyle : 1.5828677839851024\n",
      "News : 1.3345747982619491\n",
      "Travel : 1.2414649286157666\n",
      "Finance : 1.1173184357541899\n",
      "Weather : 0.8690254500310366\n",
      "Food & Drink : 0.8069522036002483\n",
      "Reference : 0.5586592178770949\n",
      "Business : 0.5276225946617008\n",
      "Book : 0.4345127250155183\n",
      "Navigation : 0.186219739292365\n",
      "Medical : 0.186219739292365\n",
      "Catalogs : 0.12414649286157665\n"
     ]
    }
   ],
   "source": [
    "display_table(Free_IOS,11)"
   ]
  },
  {
   "cell_type": "markdown",
   "metadata": {},
   "source": [
    "Applications registered as \"Games\" represent more than half of the free IOS app available. If we add Entertainement and Photo & Video (we can see it as entertainement too), the IOS application directories are mainly focused on entertainment (more thant 70% of free app available)"
   ]
  },
  {
   "cell_type": "markdown",
   "metadata": {},
   "source": [
    "Bonus : There is an other column in Google Play dataset that we can use, but it's too granular (see below) for our first goal wich is to understand the global picture of app market."
   ]
  },
  {
   "cell_type": "code",
   "execution_count": 24,
   "metadata": {},
   "outputs": [
    {
     "name": "stdout",
     "output_type": "stream",
     "text": [
      "Tools : 8.449909747292418\n",
      "Entertainment : 6.069494584837545\n",
      "Education : 5.347472924187725\n",
      "Business : 4.591606498194946\n",
      "Productivity : 3.892148014440433\n",
      "Lifestyle : 3.892148014440433\n",
      "Finance : 3.7003610108303246\n",
      "Medical : 3.531137184115524\n",
      "Sports : 3.463447653429603\n",
      "Personalization : 3.3167870036101084\n",
      "Communication : 3.2378158844765346\n",
      "Action : 3.1024368231046933\n",
      "Health & Fitness : 3.0798736462093865\n",
      "Photography : 2.944494584837545\n",
      "News & Magazines : 2.7978339350180503\n",
      "Social : 2.6624548736462095\n",
      "Travel & Local : 2.3240072202166067\n",
      "Shopping : 2.2450361010830324\n",
      "Books & Reference : 2.1435018050541514\n",
      "Simulation : 2.0419675090252705\n",
      "Dating : 1.861462093862816\n",
      "Arcade : 1.8501805054151623\n",
      "Video Players & Editors : 1.7712093862815883\n",
      "Casual : 1.7599277978339352\n",
      "Maps & Navigation : 1.3989169675090252\n",
      "Food & Drink : 1.2409747292418771\n",
      "Puzzle : 1.128158844765343\n",
      "Racing : 0.9927797833935018\n",
      "Role Playing : 0.9363718411552346\n",
      "Libraries & Demo : 0.9363718411552346\n",
      "Auto & Vehicles : 0.9250902527075812\n",
      "Strategy : 0.9138086642599278\n",
      "House & Home : 0.8235559566787004\n",
      "Weather : 0.8009927797833934\n",
      "Events : 0.7107400722021661\n",
      "Adventure : 0.6768953068592057\n",
      "Comics : 0.6092057761732852\n",
      "Beauty : 0.5979241877256317\n",
      "Art & Design : 0.5979241877256317\n",
      "Parenting : 0.4963898916967509\n",
      "Card : 0.45126353790613716\n",
      "Casino : 0.42870036101083037\n",
      "Trivia : 0.41741877256317694\n",
      "Educational;Education : 0.39485559566787\n",
      "Board : 0.3835740072202166\n",
      "Educational : 0.3722924187725632\n",
      "Education;Education : 0.33844765342960287\n",
      "Word : 0.2594765342960289\n",
      "Casual;Pretend Play : 0.236913357400722\n",
      "Music : 0.2030685920577617\n",
      "Racing;Action & Adventure : 0.16922382671480143\n",
      "Puzzle;Brain Games : 0.16922382671480143\n",
      "Entertainment;Music & Video : 0.16922382671480143\n",
      "Casual;Brain Games : 0.13537906137184114\n",
      "Casual;Action & Adventure : 0.13537906137184114\n",
      "Arcade;Action & Adventure : 0.12409747292418773\n",
      "Action;Action & Adventure : 0.10153429602888085\n",
      "Educational;Pretend Play : 0.09025270758122744\n",
      "Simulation;Action & Adventure : 0.078971119133574\n",
      "Parenting;Education : 0.078971119133574\n",
      "Entertainment;Brain Games : 0.078971119133574\n",
      "Board;Brain Games : 0.078971119133574\n",
      "Parenting;Music & Video : 0.06768953068592057\n",
      "Educational;Brain Games : 0.06768953068592057\n",
      "Casual;Creativity : 0.06768953068592057\n",
      "Art & Design;Creativity : 0.06768953068592057\n",
      "Education;Pretend Play : 0.056407942238267145\n",
      "Role Playing;Pretend Play : 0.04512635379061372\n",
      "Education;Creativity : 0.04512635379061372\n",
      "Role Playing;Action & Adventure : 0.033844765342960284\n",
      "Puzzle;Action & Adventure : 0.033844765342960284\n",
      "Entertainment;Creativity : 0.033844765342960284\n",
      "Entertainment;Action & Adventure : 0.033844765342960284\n",
      "Educational;Creativity : 0.033844765342960284\n",
      "Educational;Action & Adventure : 0.033844765342960284\n",
      "Education;Music & Video : 0.033844765342960284\n",
      "Education;Brain Games : 0.033844765342960284\n",
      "Education;Action & Adventure : 0.033844765342960284\n",
      "Adventure;Action & Adventure : 0.033844765342960284\n",
      "Video Players & Editors;Music & Video : 0.02256317689530686\n",
      "Sports;Action & Adventure : 0.02256317689530686\n",
      "Simulation;Pretend Play : 0.02256317689530686\n",
      "Puzzle;Creativity : 0.02256317689530686\n",
      "Music;Music & Video : 0.02256317689530686\n",
      "Entertainment;Pretend Play : 0.02256317689530686\n",
      "Casual;Education : 0.02256317689530686\n",
      "Board;Action & Adventure : 0.02256317689530686\n",
      "Video Players & Editors;Creativity : 0.01128158844765343\n",
      "Trivia;Education : 0.01128158844765343\n",
      "Travel & Local;Action & Adventure : 0.01128158844765343\n",
      "Tools;Education : 0.01128158844765343\n",
      "Strategy;Education : 0.01128158844765343\n",
      "Strategy;Creativity : 0.01128158844765343\n",
      "Strategy;Action & Adventure : 0.01128158844765343\n",
      "Simulation;Education : 0.01128158844765343\n",
      "Role Playing;Brain Games : 0.01128158844765343\n",
      "Racing;Pretend Play : 0.01128158844765343\n",
      "Puzzle;Education : 0.01128158844765343\n",
      "Parenting;Brain Games : 0.01128158844765343\n",
      "Music & Audio;Music & Video : 0.01128158844765343\n",
      "Lifestyle;Pretend Play : 0.01128158844765343\n",
      "Lifestyle;Education : 0.01128158844765343\n",
      "Health & Fitness;Education : 0.01128158844765343\n",
      "Health & Fitness;Action & Adventure : 0.01128158844765343\n",
      "Entertainment;Education : 0.01128158844765343\n",
      "Communication;Creativity : 0.01128158844765343\n",
      "Comics;Creativity : 0.01128158844765343\n",
      "Casual;Music & Video : 0.01128158844765343\n",
      "Card;Action & Adventure : 0.01128158844765343\n",
      "Books & Reference;Education : 0.01128158844765343\n",
      "Art & Design;Pretend Play : 0.01128158844765343\n",
      "Art & Design;Action & Adventure : 0.01128158844765343\n",
      "Arcade;Pretend Play : 0.01128158844765343\n",
      "Adventure;Education : 0.01128158844765343\n"
     ]
    }
   ],
   "source": [
    "display_table(Free_OS,9)"
   ]
  },
  {
   "cell_type": "markdown",
   "metadata": {},
   "source": [
    "One way to find out what genres are the most popular (have the most users) is to calculate the average number of installs for each app genre. For OS dataset, we have this information in the Installs column (column 6) but we don't have this information on IOS dataset. For IOS analysis, we could use the number of user ratings as a proxy (column rating_count_tot, column 6)"
   ]
  },
  {
   "cell_type": "code",
   "execution_count": 25,
   "metadata": {
    "scrolled": true
   },
   "outputs": [
    {
     "name": "stdout",
     "output_type": "stream",
     "text": [
      "Social Networking : 71548.34905660378\n",
      "Photo & Video : 28441.54375\n",
      "Games : 22788.6696905016\n",
      "Music : 57326.530303030304\n",
      "Reference : 74942.11111111111\n",
      "Health & Fitness : 23298.015384615384\n",
      "Weather : 52279.892857142855\n",
      "Utilities : 18684.456790123455\n",
      "Travel : 28243.8\n",
      "Shopping : 26919.690476190477\n",
      "News : 21248.023255813954\n",
      "Navigation : 86090.33333333333\n",
      "Lifestyle : 16485.764705882353\n",
      "Entertainment : 14029.830708661417\n",
      "Food & Drink : 33333.92307692308\n",
      "Sports : 23008.898550724636\n",
      "Book : 39758.5\n",
      "Finance : 31467.944444444445\n",
      "Education : 7003.983050847458\n",
      "Productivity : 21028.410714285714\n",
      "Business : 7491.117647058823\n",
      "Catalogs : 4004.0\n",
      "Medical : 612.0\n"
     ]
    }
   ],
   "source": [
    "prime_genreIOS = freq_table(Free_IOS,11)\n",
    "\n",
    "for genre in prime_genreIOS : \n",
    "    total = 0\n",
    "    len_genre = 0\n",
    "    for row in Free_IOS : \n",
    "        genre_app = row[11]\n",
    "        if genre_app == genre : \n",
    "            number_rating = float(row[5])\n",
    "            total += number_rating\n",
    "            len_genre += 1\n",
    "    avg_n_ratings = total / len_genre\n",
    "    print(genre, ':', avg_n_ratings)"
   ]
  },
  {
   "cell_type": "markdown",
   "metadata": {},
   "source": [
    "Navigation applications are the most downloaded applications in the AppleStore. But this performance is influenced by Waze and Google Maps, which have close to half a million user reviews together:"
   ]
  },
  {
   "cell_type": "code",
   "execution_count": 26,
   "metadata": {
    "scrolled": true
   },
   "outputs": [
    {
     "name": "stdout",
     "output_type": "stream",
     "text": [
      "Waze - GPS Navigation, Maps & Real-time Traffic 345046\n",
      "Google Maps - Navigation & Transit 154911\n",
      "Geocaching® 12811\n",
      "CoPilot GPS – Car Navigation & Offline Maps 3582\n",
      "ImmobilienScout24: Real Estate Search in Germany 187\n",
      "Railway Route Search 5\n"
     ]
    }
   ],
   "source": [
    "for app in Free_IOS : \n",
    "    if app[11] == 'Navigation' :\n",
    "        print(app[1], app[5])"
   ]
  },
  {
   "cell_type": "code",
   "execution_count": 28,
   "metadata": {},
   "outputs": [
    {
     "name": "stdout",
     "output_type": "stream",
     "text": [
      "1,000,000+ : 15.726534296028879\n",
      "100,000+ : 11.552346570397113\n",
      "10,000,000+ : 10.548285198555957\n",
      "10,000+ : 10.198555956678701\n",
      "1,000+ : 8.393501805054152\n",
      "100+ : 6.915613718411552\n",
      "5,000,000+ : 6.825361010830325\n",
      "500,000+ : 5.561823104693141\n",
      "50,000+ : 4.7721119133574\n",
      "5,000+ : 4.512635379061372\n",
      "10+ : 3.5424187725631766\n",
      "500+ : 3.2490974729241873\n",
      "50,000,000+ : 2.3014440433213\n",
      "100,000,000+ : 2.1322202166064983\n",
      "50+ : 1.917870036101083\n",
      "5+ : 0.78971119133574\n",
      "1+ : 0.5076714801444043\n",
      "500,000,000+ : 0.2707581227436823\n",
      "1,000,000,000+ : 0.22563176895306858\n",
      "0+ : 0.04512635379061372\n",
      "0 : 0.01128158844765343\n"
     ]
    }
   ],
   "source": [
    "display_table(Free_OS,5)"
   ]
  },
  {
   "cell_type": "markdown",
   "metadata": {},
   "source": [
    "We can see than most value gives information on the minimum number of downloads. For instance '+100.00' etc but we don't know if it's 100 000 or 200 000. We don't need precise data so we will say that +100 000 = 100 000 installs. \n",
    "\n",
    "First we need to replace '+' and ',' from installs data if we want this data to be considered as float"
   ]
  },
  {
   "cell_type": "code",
   "execution_count": 39,
   "metadata": {},
   "outputs": [
    {
     "name": "stdout",
     "output_type": "stream",
     "text": [
      "ART_AND_DESIGN  :  1986335.0\n",
      "AUTO_AND_VEHICLES  :  647318.0\n",
      "BEAUTY  :  513152.0\n",
      "BOOKS_AND_REFERENCE  :  8767812.0\n",
      "BUSINESS  :  1712290.0\n",
      "COMICS  :  817657.0\n",
      "COMMUNICATION  :  38456119.0\n",
      "DATING  :  854029.0\n",
      "EDUCATION  :  1833495.0\n",
      "ENTERTAINMENT  :  11640706.0\n",
      "EVENTS  :  253542.0\n",
      "FINANCE  :  1387692.0\n",
      "FOOD_AND_DRINK  :  1924898.0\n",
      "HEALTH_AND_FITNESS  :  4188822.0\n",
      "HOUSE_AND_HOME  :  1331541.0\n",
      "LIBRARIES_AND_DEMO  :  638504.0\n",
      "LIFESTYLE  :  1437816.0\n",
      "GAME  :  15588016.0\n",
      "FAMILY  :  3695642.0\n",
      "MEDICAL  :  120551.0\n",
      "SOCIAL  :  23253652.0\n",
      "SHOPPING  :  7036877.0\n",
      "PHOTOGRAPHY  :  17840110.0\n",
      "SPORTS  :  3638640.0\n",
      "TRAVEL_AND_LOCAL  :  13984078.0\n",
      "TOOLS  :  10801391.0\n",
      "PERSONALIZATION  :  5201483.0\n",
      "PRODUCTIVITY  :  16787331.0\n",
      "PARENTING  :  542604.0\n",
      "WEATHER  :  5074486.0\n",
      "VIDEO_PLAYERS  :  24727872.0\n",
      "NEWS_AND_MAGAZINES  :  9549178.0\n",
      "MAPS_AND_NAVIGATION  :  4056942.0\n"
     ]
    }
   ],
   "source": [
    "category_OS = freq_table(Free_OS,1)\n",
    "\n",
    "for category in category_OS : \n",
    "    total = 0\n",
    "    len_category = 0\n",
    "    for row in Free_OS : \n",
    "        category_app = row[1]\n",
    "        if category_app == category :\n",
    "            installs_os = row[5]\n",
    "            installs_os = installs_os.replace('+','')\n",
    "            installs_os = installs_os.replace(',','')\n",
    "            installs_os = float(installs_os)\n",
    "            total += installs_os\n",
    "            len_category += 1\n",
    "            \n",
    "    avg_rating = total/len_category\n",
    "    avg_rating = round(avg_rating,0)\n",
    "    print(category,' : ', avg_rating)\n"
   ]
  },
  {
   "cell_type": "markdown",
   "metadata": {},
   "source": [
    "It seems like Communication app have the most installs (around 38,5M) "
   ]
  },
  {
   "cell_type": "code",
   "execution_count": 41,
   "metadata": {},
   "outputs": [
    {
     "name": "stdout",
     "output_type": "stream",
     "text": [
      "WhatsApp Messenger 1,000,000,000+\n",
      "Messenger for SMS 10,000,000+\n",
      "My Tele2 5,000,000+\n",
      "imo beta free calls and text 100,000,000+\n",
      "Contacts 50,000,000+\n",
      "Call Free – Free Call 5,000,000+\n",
      "Web Browser & Explorer 5,000,000+\n",
      "Browser 4G 10,000,000+\n",
      "MegaFon Dashboard 10,000,000+\n",
      "ZenUI Dialer & Contacts 10,000,000+\n",
      "Cricket Visual Voicemail 10,000,000+\n",
      "TracFone My Account 1,000,000+\n",
      "Xperia Link™ 10,000,000+\n",
      "TouchPal Keyboard - Fun Emoji & Android Keyboard 10,000,000+\n",
      "Skype Lite - Free Video Call & Chat 5,000,000+\n",
      "My magenta 1,000,000+\n",
      "Android Messages 100,000,000+\n",
      "Google Duo - High Quality Video Calls 500,000,000+\n",
      "Seznam.cz 1,000,000+\n",
      "Antillean Gold Telegram (original version) 100,000+\n",
      "AT&T Visual Voicemail 10,000,000+\n",
      "GMX Mail 10,000,000+\n",
      "Omlet Chat 10,000,000+\n",
      "My Vodacom SA 5,000,000+\n",
      "Microsoft Edge 5,000,000+\n",
      "Messenger – Text and Video Chat for Free 1,000,000,000+\n",
      "imo free video calls and chat 500,000,000+\n",
      "Calls & Text by Mo+ 5,000,000+\n",
      "free video calls and chat 50,000,000+\n",
      "Skype - free IM & video calls 1,000,000,000+\n",
      "Who 100,000,000+\n",
      "GO SMS Pro - Messenger, Free Themes, Emoji 100,000,000+\n",
      "Messaging+ SMS, MMS Free 1,000,000+\n",
      "chomp SMS 10,000,000+\n",
      "Glide - Video Chat Messenger 10,000,000+\n",
      "Text SMS 10,000,000+\n",
      "Talkray - Free Calls & Texts 10,000,000+\n",
      "LINE: Free Calls & Messages 500,000,000+\n",
      "GroupMe 10,000,000+\n",
      "mysms SMS Text Messaging Sync 1,000,000+\n",
      "2ndLine - Second Phone Number 1,000,000+\n",
      "Google Chrome: Fast & Secure 1,000,000,000+\n",
      "Firefox Browser fast & private 100,000,000+\n",
      "Ninesky Browser 1,000,000+\n",
      "Dolphin Browser - Fast, Private & Adblock🐬 50,000,000+\n",
      "UC Browser - Fast Download Private & Secure 500,000,000+\n",
      "Ghostery Privacy Browser 1,000,000+\n",
      "InBrowser - Incognito Browsing 1,000,000+\n",
      "Lightning Web Browser 500,000+\n",
      "Web Browser 500,000+\n",
      "Contacts+ 10,000,000+\n",
      "ExDialer - Dialer & Contacts 10,000,000+\n",
      "PHONE for Google Voice & GTalk 1,000,000+\n",
      "Safest Call Blocker 1,000,000+\n",
      "Full Screen Caller ID 5,000,000+\n",
      "Hiya - Caller ID & Block 10,000,000+\n",
      "Mr. Number-Block calls & spam 10,000,000+\n",
      "Should I Answer? 1,000,000+\n",
      "RocketDial Dialer & Contacts 1,000,000+\n",
      "CIA - Caller ID & Call Blocker 5,000,000+\n",
      "Calls Blacklist - Call Blocker 10,000,000+\n",
      "Call Control - Call Blocker 5,000,000+\n",
      "True Contact - Real Caller ID 1,000,000+\n",
      "Video Caller Id 1,000,000+\n",
      "Sync.ME – Caller ID & Block 5,000,000+\n",
      "Burner - Free Phone Number 1,000,000+\n",
      "Caller ID + 1,000,000+\n",
      "Gmail 1,000,000,000+\n",
      "K-9 Mail 5,000,000+\n",
      "myMail – Email for Hotmail, Gmail and Outlook Mail 10,000,000+\n",
      "Email TypeApp - Mail App 1,000,000+\n",
      "All Email Providers 1,000,000+\n",
      "Newton Mail - Email App for Gmail, Outlook, IMAP 1,000,000+\n",
      "GO Notifier 10,000,000+\n",
      "Mail.Ru - Email App 50,000,000+\n",
      "Mail1Click - Secure Mail 10,000+\n",
      "Daum Mail - Next Mail 5,000,000+\n",
      "mail.com mail 1,000,000+\n",
      "SolMail - All-in-One email app 500,000+\n",
      "Hangouts 1,000,000,000+\n",
      "Vonage Mobile® Call Video Text 1,000,000+\n",
      "JusTalk - Free Video Calls and Fun Video Chat 5,000,000+\n",
      "Azar 50,000,000+\n",
      "LokLok: Draw on a Lock Screen 500,000+\n",
      "Discord - Chat for Gamers 10,000,000+\n",
      "Messenger Lite: Free Calls & Messages 100,000,000+\n",
      "AntennaPict β 1,000,000+\n",
      "Talkatone: Free Texts, Calls & Phone Number 10,000,000+\n",
      "Kik 100,000,000+\n",
      "K-@ Mail - Email App 100,000+\n",
      "KakaoTalk: Free Calls & Text 100,000,000+\n",
      "K-9 Material (unofficial) 5,000+\n",
      "M star Dialer 100,000+\n",
      "Free WiFi Connect 10,000,000+\n",
      "m:go BiH 10,000+\n",
      "N-Com Wizard 50,000+\n",
      "Opera Mini - fast web browser 100,000,000+\n",
      "Opera Browser: Fast and Secure 100,000,000+\n",
      "Opera Mini browser beta 10,000,000+\n",
      "Psiphon Pro - The Internet Freedom VPN 10,000,000+\n",
      "ICQ — Video Calls & Chat Messenger 10,000,000+\n",
      "Telegram 100,000,000+\n",
      "AT&T Messages for Tablet 1,000,000+\n",
      "T-Mobile DIGITS 100,000+\n",
      "Truecaller: Caller ID, SMS spam blocking & Dialer 100,000,000+\n",
      "Portable Wi-Fi hotspot 10,000,000+\n",
      "AT&T Call Protect 5,000,000+\n",
      "U - Webinars, Meetings & Messenger 500,000+\n",
      "UC Browser Mini -Tiny Fast Private & Secure 100,000,000+\n",
      "/u/app 10,000+\n",
      "[verify-U] VideoIdent 10,000+\n",
      "Viber Messenger 500,000,000+\n",
      "WeChat 100,000,000+\n",
      "WhatsApp Business 10,000,000+\n",
      "WhatsCall Free Global Phone Call App & Cheap Calls 10,000,000+\n",
      "X Browser 50,000+\n",
      "Yahoo Mail – Stay Organized 100,000,000+\n",
      "Free Adblocker Browser - Adblock & Popup Blocker 10,000,000+\n",
      "Adblock Browser for Android 10,000,000+\n",
      "CM Browser - Ad Blocker , Fast Download , Privacy 50,000,000+\n",
      "Adblock Plus for Samsung Internet - Browse safe. 1,000,000+\n",
      "Ad Blocker Turbo - Adblocker Browser 10,000+\n",
      "Brave Browser: Fast AdBlocker 5,000,000+\n",
      "AG Contacts, Lite edition 5,000+\n",
      "Oklahoma Ag Co-op Council 10+\n",
      "Bee'ah Employee App 100+\n",
      "tournaments and more.aj.2 100+\n",
      "Aj.Petra 100+\n",
      "AK Phone 5,000+\n",
      "PlacarTv Futebol Ao Vivo 100,000+\n",
      "WiFi Access Point (hotspot) 100,000+\n",
      "Access Point Names 10,000+\n",
      "Puffin Web Browser 10,000,000+\n",
      "ClanHQ 10,000+\n",
      "Ear Agent: Super Hearing 5,000,000+\n",
      "Google Voice 10,000,000+\n",
      "Google Allo 10,000,000+\n",
      "AU Call Blocker - Block Unwanted Calls Texts 2018 1,000+\n",
      "Baby Monitor AV 100,000+\n",
      "AV Phone 1,000+\n",
      "AW - free video calls and chat 1,000,000+\n",
      "Katalogen.ax 100+\n",
      "AZ Browser. Private & Download 100,000+\n",
      "BA SALES 1+\n",
      "BD Data Plan (3G & 4G) 500,000+\n",
      "BD Internet Packages (Updated) 50,000+\n",
      "BD Dialer 10,000+\n",
      "BD Live Call 5,000+\n",
      "Best Browser BD social networking 10+\n",
      "Traffic signs BD 500+\n",
      "BF Browser by Betfilter - Stop Gambling Today! 10,000+\n",
      "My BF App 50,000+\n",
      "BH Mail 1,000+\n",
      "Zalo – Video Call 50,000,000+\n",
      "BJ - Confidential 10+\n",
      "BK Chat 1,000+\n",
      "Of the wall Arapaho bk 5+\n",
      "AC-BL 50+\n",
      "BBM - Free Calls & Messages 100,000,000+\n",
      "DMR BrandMeister Tool 10,000+\n",
      "BBMoji - Your personalized BBM Stickers 1,000,000+\n",
      "BN MALLORCA Radio 1,000+\n",
      "BQ Partners 1,000+\n",
      "BS-Mobile 50+\n",
      "ATC Unico BS 500+\n",
      "BT One Voice mobile access 5,000+\n",
      "BT Messenger 50,000+\n",
      "BT One Phone Mobile App 10,000+\n",
      "SW-100.tch by Callstel 1,000,000+\n",
      "BT MeetMe with Dolby Voice 100,000+\n",
      "Bluetooth Auto Connect 5,000,000+\n",
      "AudioBT: BT audio GPS/SMS/Text 50,000+\n",
      "BV 100+\n",
      "Feel Performer 10,000+\n",
      "Tiny Call Confirm 1,000,000+\n",
      "CB Radio Chat - for friends! 1,000,000+\n",
      "CB On Mobile 100,000+\n",
      "Virtual Walkie Talkie 1,000,000+\n",
      "Channel 19 100,000+\n",
      "Cb browser 50+\n",
      "CF Chat: Connecting Friends 100+\n",
      "retteMi.ch 5,000+\n",
      "Chrome Dev 5,000,000+\n",
      "CJ Browser - Fast & Private 100+\n",
      "CJ DVD Rentals 100+\n",
      "CK Call NEW 10+\n",
      "CM Transfer - Share any files with friends nearby 5,000,000+\n",
      "mail.co.uk Mail 5,000+\n",
      "ClanPlay: Community and Tools for Gamers 1,000,000+\n",
      "CQ-Mobile 1,000+\n",
      "CQ-Alert 500+\n",
      "QRZ Assistant 100,000+\n",
      "Pocket Prefix Plus 10,000+\n",
      "Ham Radio Prefixes 10,000+\n",
      "CS Customizer 1,000+\n",
      "CS Browser | #1 & BEST BROWSER 1,000+\n",
      "CS Browser Beta 5,000+\n",
      "My Vodafone (GR) 1,000,000+\n",
      "IZ2UUF Morse Koch CW 50,000+\n",
      "C W Browser 100+\n",
      "CW Bluetooth SPP 100+\n",
      "CW BLE Peripheral Simulator 500+\n",
      "Morse Code Reader 100,000+\n",
      "Learn Morse Code - G0HYN Learn Morse 5,000+\n",
      "Ring 10,000+\n",
      "Hyundai CX Conference 50+\n",
      "Cy Messenger 100+\n",
      "Amadeus GR & CY 100+\n",
      "Hlášenírozhlasu.cz 10+\n",
      "SMS Sender - sluzba.cz 1,000+\n",
      "WEB.DE Mail 10,000,000+\n",
      "Your Freedom VPN Client 5,000,000+\n",
      "CallApp: Caller ID, Blocker & Phone Call Recorder 10,000,000+\n",
      "Rádio Sol Nascente DF 500+\n",
      "DG Card 100+\n",
      "Whoscall - Caller ID & Block 10,000,000+\n",
      "DK Browser 10+\n",
      "cluster.dk 1,000+\n",
      "DK TEL Dialer 50+\n",
      "DM for WhatsApp 5,000+\n",
      "DM Talk New 5,000+\n",
      "DM - The Offical Messaging App 10+\n",
      "DM Tracker 1,000+\n",
      "Call Blocker & Blacklist 1,000+\n",
      "ReadyOp DT 1,000+\n",
      "DU Browser—Browse fast & fun 10,000,000+\n",
      "Caller ID & Call Block - DU Caller 5,000,000+\n",
      "BlueDV AMBE 1,000+\n",
      "DW Contacts & Phone & Dialer 1,000,000+\n",
      "Deaf World DW 10,000+\n",
      "Ham DX Cluster & Spots Finder 5,000+\n",
      "Mircules DX Cluster Lite 5,000+\n",
      "3G DZ Configuration 50,000+\n",
      "chat dz 100+\n",
      "love sms good morning 5,000+\n",
      "Goodbox - Mega App 100,000+\n",
      "Call Blocker - Blacklist, SMS Blocker 1,000,000+\n",
      "[EF]ShoutBox 100+\n",
      "Eg Call 10,000+\n",
      "ei 10+\n",
      "EJ messenger 10+\n",
      "Ek IRA 10+\n",
      "Orfox: Tor Browser for Android 10,000,000+\n",
      "EO Mumbai 10+\n",
      "EP RSS Reader 100+\n",
      "Voxer Walkie Talkie Messenger 10,000,000+\n",
      "ES-1 500+\n",
      "Hangouts Dialer - Call Phones 10,000,000+\n",
      "EU Council 1,000+\n",
      "Council Voting Calculator 5,000+\n",
      "Have your say on Europe 500+\n",
      "Programi podrške EU 100+\n",
      "Inbox.eu 10,000+\n",
      "Web Browser for Android 1,000,000+\n",
      "Everbridge 100,000+\n",
      "Best Auto Call Recorder Free 500+\n",
      "EZ Wifi Notification 10,000+\n",
      "Test Server SMS FA 5+\n",
      "Lite for Facebook Messenger 1,000,000+\n",
      "FC Browser - Focus Privacy Browser 1,000+\n",
      "EHiN-FH conferenceapp 100+\n",
      "Carpooling FH Hagenberg 100+\n",
      "Wi-Fi Auto-connect 1,000,000+\n",
      "Talkie - Wi-Fi Calling, Chats, File Sharing 500,000+\n",
      "WeFi - Free Fast WiFi Connect & Find Wi-Fi Map 1,000,000+\n",
      "Sat-Fi 5,000+\n",
      "Portable Wi-Fi hotspot Free 100,000+\n",
      "TownWiFi | Wi-Fi Everywhere 500,000+\n",
      "Jazz Wi-Fi 10,000+\n",
      "Sat-Fi Voice 1,000+\n",
      "Free Wi-fi HotspoT 50,000+\n",
      "FN Web Radio 10+\n",
      "FNH Payment Info 10+\n",
      "MARKET FO 100+\n",
      "FO OP St-Nazaire 100+\n",
      "FO SODEXO 100+\n",
      "FO RCBT 100+\n",
      "FO Interim 100+\n",
      "FO PSA Sept-Fons 100+\n",
      "FO AIRBUS TLSE 1,000+\n",
      "FO STELIA Méaulte 100+\n",
      "FO AIRBUS Nantes 100+\n",
      "Firefox Focus: The privacy browser 1,000,000+\n",
      "FP Connect 100+\n",
      "FreedomPop Messaging Phone/SIM 500,000+\n",
      "FP Live 10+\n",
      "HipChat - beta version 50,000+\n"
     ]
    }
   ],
   "source": [
    "for app in Free_OS : \n",
    "    if app[1] == 'COMMUNICATION' :\n",
    "        print(app[0], app[5])"
   ]
  },
  {
   "cell_type": "code",
   "execution_count": 49,
   "metadata": {},
   "outputs": [
    {
     "name": "stdout",
     "output_type": "stream",
     "text": [
      "[10000000.0, 10000000.0, 10000000.0, 10000000.0, 10000000.0, 10000000.0, 10000000.0, 10000000.0, 10000000.0, 10000000.0, 10000000.0, 10000000.0, 10000000.0, 10000000.0, 10000000.0, 10000000.0, 10000000.0, 10000000.0, 10000000.0, 10000000.0, 10000000.0, 10000000.0, 10000000.0, 10000000.0, 10000000.0, 10000000.0, 10000000.0, 10000000.0, 10000000.0, 10000000.0, 10000000.0, 10000000.0, 10000000.0, 10000000.0, 10000000.0, 10000000.0, 10000000.0, 10000000.0, 10000000.0, 10000000.0, 10000000.0, 10000000.0, 10000000.0, 10000000.0, 10000000.0, 10000000.0, 10000000.0, 10000000.0, 10000000.0, 10000000.0, 10000000.0, 10000000.0, 10000000.0, 10000000.0, 10000000.0, 10000000.0, 10000000.0, 10000000.0, 10000000.0, 10000000.0, 10000000.0, 10000000.0, 10000000.0, 10000000.0, 10000000.0, 10000000.0, 10000000.0, 10000000.0, 10000000.0, 10000000.0, 10000000.0, 10000000.0, 10000000.0, 10000000.0, 10000000.0, 10000000.0, 10000000.0, 10000000.0, 10000000.0, 10000000.0, 10000000.0, 10000000.0, 10000000.0, 10000000.0, 10000000.0, 10000000.0, 10000000.0, 10000000.0, 10000000.0, 10000000.0, 10000000.0, 10000000.0, 10000000.0, 10000000.0, 10000000.0, 10000000.0, 10000000.0, 10000000.0, 10000000.0, 10000000.0, 10000000.0, 10000000.0, 10000000.0, 10000000.0, 10000000.0, 10000000.0, 10000000.0, 10000000.0, 10000000.0, 10000000.0, 10000000.0, 10000000.0, 10000000.0, 10000000.0, 10000000.0, 10000000.0, 10000000.0, 10000000.0, 10000000.0, 10000000.0, 10000000.0, 10000000.0, 10000000.0, 10000000.0, 10000000.0, 10000000.0, 10000000.0, 10000000.0, 10000000.0, 10000000.0, 10000000.0, 10000000.0, 10000000.0, 10000000.0, 10000000.0, 10000000.0, 10000000.0, 10000000.0, 10000000.0, 10000000.0, 10000000.0, 10000000.0, 10000000.0, 10000000.0, 10000000.0, 10000000.0, 10000000.0, 10000000.0, 10000000.0, 10000000.0, 10000000.0, 10000000.0, 10000000.0, 10000000.0, 10000000.0, 10000000.0, 10000000.0, 10000000.0, 10000000.0, 10000000.0, 10000000.0, 10000000.0, 10000000.0, 10000000.0, 10000000.0, 10000000.0, 10000000.0, 10000000.0, 10000000.0, 10000000.0, 10000000.0, 10000000.0, 10000000.0, 10000000.0, 10000000.0, 10000000.0, 10000000.0, 10000000.0, 10000000.0, 10000000.0, 10000000.0, 10000000.0, 10000000.0, 10000000.0, 10000000.0, 10000000.0, 10000000.0, 10000000.0, 10000000.0, 10000000.0, 10000000.0, 10000000.0, 10000000.0, 10000000.0, 10000000.0, 10000000.0, 10000000.0, 10000000.0, 10000000.0, 10000000.0, 10000000.0, 10000000.0, 10000000.0, 10000000.0, 10000000.0, 10000000.0, 10000000.0, 10000000.0, 10000000.0, 10000000.0, 10000000.0, 10000000.0, 10000000.0, 10000000.0, 10000000.0, 10000000.0, 10000000.0, 10000000.0, 10000000.0, 10000000.0, 10000000.0, 10000000.0, 10000000.0, 10000000.0, 10000000.0, 10000000.0, 10000000.0, 10000000.0, 10000000.0, 10000000.0, 10000000.0, 10000000.0, 10000000.0, 10000000.0, 10000000.0, 10000000.0, 10000000.0, 10000000.0, 10000000.0, 10000000.0, 10000000.0, 10000000.0, 10000000.0, 10000000.0, 10000000.0, 10000000.0, 10000000.0, 10000000.0, 10000000.0, 10000000.0, 10000000.0, 10000000.0, 10000000.0, 10000000.0, 10000000.0, 10000000.0, 10000000.0, 10000000.0, 10000000.0, 10000000.0, 10000000.0, 10000000.0, 10000000.0, 10000000.0, 10000000.0, 10000000.0, 10000000.0, 10000000.0, 10000000.0, 10000000.0, 10000000.0, 10000000.0, 10000000.0, 10000000.0, 10000000.0, 10000000.0, 10000000.0, 10000000.0, 10000000.0, 10000000.0, 10000000.0, 10000000.0, 10000000.0, 10000000.0, 10000000.0, 10000000.0, 10000000.0]\n"
     ]
    },
    {
     "data": {
      "text/plain": [
       "10000000.0"
      ]
     },
     "execution_count": 49,
     "metadata": {},
     "output_type": "execute_result"
    }
   ],
   "source": [
    "under_100_m = []\n",
    "\n",
    "for app in Free_OS:\n",
    "        installs_os = row[5]\n",
    "        installs_os = installs_os.replace('+','')\n",
    "        installs_os = installs_os.replace(',','')\n",
    "        installs_os = float(installs_os)\n",
    "        if (app[1] == 'COMMUNICATION') and installs_os < 100000000:\n",
    "            under_100_m.append(installs_os)\n",
    "\n",
    "sum(under_100_m) / len(under_100_m)"
   ]
  },
  {
   "cell_type": "code",
   "execution_count": null,
   "metadata": {},
   "outputs": [],
   "source": []
  }
 ],
 "metadata": {
  "kernelspec": {
   "display_name": "Python 3",
   "language": "python",
   "name": "python3"
  },
  "language_info": {
   "codemirror_mode": {
    "name": "ipython",
    "version": 3
   },
   "file_extension": ".py",
   "mimetype": "text/x-python",
   "name": "python",
   "nbconvert_exporter": "python",
   "pygments_lexer": "ipython3",
   "version": "3.8.2"
  }
 },
 "nbformat": 4,
 "nbformat_minor": 2
}
