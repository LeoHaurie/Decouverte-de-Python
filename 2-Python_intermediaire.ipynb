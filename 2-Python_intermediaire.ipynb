{
 "cells": [
  {
   "cell_type": "markdown",
   "metadata": {},
   "source": [
    "# Explorer les publications du site Hackers News\n",
    "\n",
    "Dans ce projet, nous comparerons 2 différents types de publications du site [Hacker News](https://news.ycombinator.com/), une site \"tech'\" très populaire similaire au site reddit dans son fonctionnement. Les utilisateurs publient des anecdotes, informations, conseils ou autres et la communauté peut voter pour faire remonter le post dans les premières pages et le commenter. \n",
    "\n",
    "Les 2 types de posts que nous étudierons sont les posts commencant par Ask HN or Show HN.\n",
    "\n",
    "Les utilisateurs ajoutent Ask HN au début du titre de la publication quand ils veulent poser une question à la communauté de Hacker News, et Show HN pour partager un projet, un produit voir un sujet qu'ils jugent intéressant. \n",
    "\n",
    "Nous aimerions répondre aux questions suivantes : \n",
    "\n",
    "- Qui de Ask HN ou Show HN obtient le plus de commentaires en moyenne ? \n",
    "\n",
    "- Est ce qu'un post publié à une certaine heure obtient plus de commentaires que la moyenne ? \n",
    "\n",
    "La base de données sur laquelle nous allons travailler a été réduite de 300 000 linges à 20 000.\n",
    "\n",
    "\n",
    "## Introduction\n",
    "\n",
    "Tout d'abord, lisons la base de données et retirons la première colonne (souvent, et c'est le cas dans cette base de données, la première colonne contient l'en-tête du tableau. Il faut le prendre en compte ou la retirer pour ne pas fausser une analyse chiffrée avec les lettres de la première colonne)"
   ]
  },
  {
   "cell_type": "code",
   "execution_count": 1,
   "metadata": {
    "collapsed": false,
    "scrolled": true
   },
   "outputs": [
    {
     "data": {
      "text/plain": [
       "[['id', 'title', 'url', 'num_points', 'num_comments', 'author', 'created_at'],\n",
       " ['12224879',\n",
       "  'Interactive Dynamic Video',\n",
       "  'http://www.interactivedynamicvideo.com/',\n",
       "  '386',\n",
       "  '52',\n",
       "  'ne0phyte',\n",
       "  '8/4/2016 11:52'],\n",
       " ['10975351',\n",
       "  'How to Use Open Source and Shut the Fuck Up at the Same Time',\n",
       "  'http://hueniverse.com/2016/01/26/how-to-use-open-source-and-shut-the-fuck-up-at-the-same-time/',\n",
       "  '39',\n",
       "  '10',\n",
       "  'josep2',\n",
       "  '1/26/2016 19:30'],\n",
       " ['11964716',\n",
       "  \"Florida DJs May Face Felony for April Fools' Water Joke\",\n",
       "  'http://www.thewire.com/entertainment/2013/04/florida-djs-april-fools-water-joke/63798/',\n",
       "  '2',\n",
       "  '1',\n",
       "  'vezycash',\n",
       "  '6/23/2016 22:20'],\n",
       " ['11919867',\n",
       "  'Technology ventures: From Idea to Enterprise',\n",
       "  'https://www.amazon.com/Technology-Ventures-Enterprise-Thomas-Byers/dp/0073523429',\n",
       "  '3',\n",
       "  '1',\n",
       "  'hswarna',\n",
       "  '6/17/2016 0:01']]"
      ]
     },
     "execution_count": 1,
     "metadata": {},
     "output_type": "execute_result"
    }
   ],
   "source": [
    "import csv\n",
    "\n",
    "f = open('hacker_news.csv')\n",
    "hn = list(csv.reader(f))\n",
    "hn[:5]"
   ]
  },
  {
   "cell_type": "markdown",
   "metadata": {},
   "source": [
    "## Retirer l'en-tête de la base de données  "
   ]
  },
  {
   "cell_type": "code",
   "execution_count": 2,
   "metadata": {
    "collapsed": false
   },
   "outputs": [
    {
     "name": "stdout",
     "output_type": "stream",
     "text": [
      "[['12224879', 'Interactive Dynamic Video', 'http://www.interactivedynamicvideo.com/', '386', '52', 'ne0phyte', '8/4/2016 11:52'], ['10975351', 'How to Use Open Source and Shut the Fuck Up at the Same Time', 'http://hueniverse.com/2016/01/26/how-to-use-open-source-and-shut-the-fuck-up-at-the-same-time/', '39', '10', 'josep2', '1/26/2016 19:30'], ['11964716', \"Florida DJs May Face Felony for April Fools' Water Joke\", 'http://www.thewire.com/entertainment/2013/04/florida-djs-april-fools-water-joke/63798/', '2', '1', 'vezycash', '6/23/2016 22:20'], ['11919867', 'Technology ventures: From Idea to Enterprise', 'https://www.amazon.com/Technology-Ventures-Enterprise-Thomas-Byers/dp/0073523429', '3', '1', 'hswarna', '6/17/2016 0:01'], ['10301696', 'Note by Note: The Making of Steinway L1037 (2007)', 'http://www.nytimes.com/2007/11/07/movies/07stein.html?_r=0', '8', '2', 'walterbell', '9/30/2015 4:12']]\n"
     ]
    }
   ],
   "source": [
    "header = hn[0]\n",
    "hn = hn[1:]\n",
    "print(hn[:5])"
   ]
  },
  {
   "cell_type": "code",
   "execution_count": 3,
   "metadata": {
    "collapsed": false
   },
   "outputs": [
    {
     "name": "stdout",
     "output_type": "stream",
     "text": [
      "['id', 'title', 'url', 'num_points', 'num_comments', 'author', 'created_at']\n"
     ]
    }
   ],
   "source": [
    "print(header)"
   ]
  },
  {
   "cell_type": "markdown",
   "metadata": {},
   "source": [
    "Commençons par explorer le nombre de publications et classifier les publications commençant par Ask HN, Show HN et le reste."
   ]
  },
  {
   "cell_type": "code",
   "execution_count": 5,
   "metadata": {
    "collapsed": false
   },
   "outputs": [
    {
     "name": "stdout",
     "output_type": "stream",
     "text": [
      "1744\n",
      "1162\n",
      "17194\n"
     ]
    }
   ],
   "source": [
    "ask_posts = []\n",
    "show_posts = []\n",
    "other_posts = []\n",
    "\n",
    "for row in hn:\n",
    "    title = row[1]\n",
    "    if title.lower().startswith(\"ask hn\"):\n",
    "        ask_posts.append(row)\n",
    "    elif title.lower().startswith(\"show hn\"):\n",
    "        show_posts.append(row)\n",
    "    else:\n",
    "        other_posts.append(row)\n",
    "        \n",
    "print(len(ask_posts))\n",
    "print(len(show_posts))\n",
    "print(len(other_posts))"
   ]
  },
  {
   "cell_type": "markdown",
   "metadata": {},
   "source": [
    "# Calculer le nombre moyen de commentaires pour les publications Ask HN et Show HN\n"
   ]
  },
  {
   "cell_type": "code",
   "execution_count": 6,
   "metadata": {
    "collapsed": false
   },
   "outputs": [
    {
     "name": "stdout",
     "output_type": "stream",
     "text": [
      "14\n",
      "10\n"
     ]
    }
   ],
   "source": [
    "total_ask_comments = 0\n",
    "\n",
    "for row in ask_posts : \n",
    "    num_comments = int(row[4])\n",
    "    total_ask_comments +=num_comments\n",
    "    \n",
    "avg_ask_comments = total_ask_comments/len(ask_posts)\n",
    "print(round(avg_ask_comments))\n",
    "\n",
    "total_show_comments = 0\n",
    "\n",
    "for row in show_posts : \n",
    "    num_comments2 = int(row[4])\n",
    "    total_show_comments +=num_comments2\n",
    "\n",
    "avg_show_comments = total_show_comments / len(show_posts)\n",
    "print(round(avg_show_comments))\n",
    "    "
   ]
  },
  {
   "cell_type": "markdown",
   "metadata": {},
   "source": [
    "En moyenne, un poste Ask HN recevra 14 commentaires, alors qu'un post Show HN en recevra 10. Nous nous concentrerons donc sur les publications Ask HN. "
   ]
  },
  {
   "cell_type": "code",
   "execution_count": 11,
   "metadata": {
    "collapsed": false
   },
   "outputs": [
    {
     "data": {
      "text/plain": [
       "{'00': 447,\n",
       " '01': 683,\n",
       " '02': 1381,\n",
       " '03': 421,\n",
       " '04': 337,\n",
       " '05': 464,\n",
       " '06': 397,\n",
       " '07': 267,\n",
       " '08': 492,\n",
       " '09': 251,\n",
       " '10': 793,\n",
       " '11': 641,\n",
       " '12': 687,\n",
       " '13': 1253,\n",
       " '14': 1416,\n",
       " '15': 4477,\n",
       " '16': 1814,\n",
       " '17': 1146,\n",
       " '18': 1439,\n",
       " '19': 1188,\n",
       " '20': 1722,\n",
       " '21': 1745,\n",
       " '22': 479,\n",
       " '23': 543}"
      ]
     },
     "execution_count": 11,
     "metadata": {},
     "output_type": "execute_result"
    }
   ],
   "source": [
    "import datetime as dt\n",
    "\n",
    "result_list = []\n",
    "\n",
    "for post in ask_posts:\n",
    "    result_list.append(\n",
    "        [post[6], int(post[4])]\n",
    "    )\n",
    "\n",
    "comments_by_hour = {}\n",
    "counts_by_hour = {}\n",
    "date_format = \"%m/%d/%Y %H:%M\"\n",
    "\n",
    "for each_row in result_list:\n",
    "    date = each_row[0]\n",
    "    comment = each_row[1]\n",
    "    time = dt.datetime.strptime(date, date_format).strftime(\"%H\")\n",
    "    if time in counts_by_hour:\n",
    "        comments_by_hour[time] += comment\n",
    "        counts_by_hour[time] += 1\n",
    "    else:\n",
    "        comments_by_hour[time] = comment\n",
    "        counts_by_hour[time] = 1\n",
    "\n",
    "comments_by_hour\n"
   ]
  },
  {
   "cell_type": "markdown",
   "metadata": {},
   "source": [
    "# Calculer par heure le nombre moyen de commentaires pour une publication Ask HN"
   ]
  },
  {
   "cell_type": "code",
   "execution_count": 37,
   "metadata": {
    "collapsed": false
   },
   "outputs": [
    {
     "name": "stdout",
     "output_type": "stream",
     "text": [
      "[['21', 16.009174311926607], ['13', 14.741176470588234], ['05', 10.08695652173913], ['02', 23.810344827586206], ['22', 6.746478873239437], ['06', 9.022727272727273], ['15', 38.5948275862069], ['10', 13.440677966101696], ['08', 10.25], ['03', 7.796296296296297], ['04', 7.170212765957447], ['20', 21.525], ['17', 11.46], ['19', 10.8], ['14', 13.233644859813085], ['00', 8.127272727272727], ['18', 13.20183486238532], ['23', 7.985294117647059], ['01', 11.383333333333333], ['12', 9.41095890410959], ['11', 11.051724137931034], ['09', 5.5777777777777775], ['16', 16.796296296296298], ['07', 7.852941176470588]]\n"
     ]
    }
   ],
   "source": [
    "avg_by_hour =[]\n",
    "\n",
    "for hour in comments_by_hour : \n",
    "    avg_by_hour.append([hour,(comments_by_hour[hour]/counts_by_hour[hour])])\n",
    "   \n",
    "    \n",
    "print(avg_by_hour)\n",
    "        "
   ]
  },
  {
   "cell_type": "markdown",
   "metadata": {},
   "source": [
    "# Sortir les résultats dans le format List of Lists"
   ]
  },
  {
   "cell_type": "code",
   "execution_count": 42,
   "metadata": {
    "collapsed": false
   },
   "outputs": [
    {
     "name": "stdout",
     "output_type": "stream",
     "text": [
      "[[16.009174311926607, '21'], [14.741176470588234, '13'], [10.08695652173913, '05'], [23.810344827586206, '02'], [6.746478873239437, '22'], [9.022727272727273, '06'], [38.5948275862069, '15'], [13.440677966101696, '10'], [10.25, '08'], [7.796296296296297, '03'], [7.170212765957447, '04'], [21.525, '20'], [11.46, '17'], [10.8, '19'], [13.233644859813085, '14'], [8.127272727272727, '00'], [13.20183486238532, '18'], [7.985294117647059, '23'], [11.383333333333333, '01'], [9.41095890410959, '12'], [11.051724137931034, '11'], [5.5777777777777775, '09'], [16.796296296296298, '16'], [7.852941176470588, '07']]\n",
      "Top 5 Hours for Ask Posts Comments\n",
      "[[38.5948275862069, '15'], [23.810344827586206, '02'], [21.525, '20'], [16.796296296296298, '16'], [16.009174311926607, '21']]\n",
      "15:00 38.59 average comments per post\n",
      "02:00 23.81 average comments per post\n",
      "20:00 21.52 average comments per post\n",
      "16:00 16.80 average comments per post\n",
      "21:00 16.01 average comments per post\n"
     ]
    }
   ],
   "source": [
    "swap_avg_by_hour = []\n",
    "\n",
    "for row in avg_by_hour : \n",
    "    date = row[0]\n",
    "    avg_comment = row[1]\n",
    "    swap_avg_by_hour.append([avg_comment,date])\n",
    "\n",
    "print(swap_avg_by_hour)\n",
    "\n",
    "sorted_swap = sorted(swap_avg_by_hour,reverse=True)\n",
    "\n",
    "print(\"Top 5 Hours for Ask Posts Comments\")\n",
    "print(sorted_swap[:5])\n",
    "\n",
    "for avg,date in sorted_swap[:5]:\n",
    "    date = dt.datetime.strptime(date,\"%H\")\n",
    "    date = date.strftime(\"%H:%M\")\n",
    "    s = \"{} {:.2f} average comments per post\".format(date,avg)\n",
    "    print(s)"
   ]
  },
  {
   "cell_type": "markdown",
   "metadata": {},
   "source": [
    "Au regard des résultats, la tranche horaire avec la moyenne de commentaires par publication la plus élevée est 15h avec 38.59 commentaires en moyenne. \n",
    "\n",
    "16h étant la 4ème meilleure tranche horaire, nous recommandons donc de publier à 15h pour bénéficier de l'intérêt des utilisateurs sur ces 2 tranches horaires. On peut imaginer qu'avec un fort nombre de réponses en aussi peu de temps, la publication restera dans les publications \"populaires\" (soit dans la première page) à 20h et bénéficiera du soutien des utilisateurs de 20h(3ème meilleure tranche horaire) et 21h(5ème meilleure tranche horaire)"
   ]
  },
  {
   "cell_type": "code",
   "execution_count": null,
   "metadata": {
    "collapsed": true
   },
   "outputs": [],
   "source": []
  }
 ],
 "metadata": {
  "kernelspec": {
   "display_name": "Python 3",
   "language": "python",
   "name": "python3"
  },
  "language_info": {
   "codemirror_mode": {
    "name": "ipython",
    "version": 3
   },
   "file_extension": ".py",
   "mimetype": "text/x-python",
   "name": "python",
   "nbconvert_exporter": "python",
   "pygments_lexer": "ipython3",
   "version": "3.4.3"
  }
 },
 "nbformat": 4,
 "nbformat_minor": 2
}
